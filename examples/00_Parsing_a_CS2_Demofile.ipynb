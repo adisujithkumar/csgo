{
 "cells": [
  {
   "cell_type": "markdown",
   "id": "1e078906",
   "metadata": {},
   "source": [
    "# Parsing a CS2 Demofile"
   ]
  },
  {
   "cell_type": "code",
   "execution_count": 1,
   "id": "d6c85f54",
   "metadata": {},
   "outputs": [],
   "source": [
    "import sys\n",
    "sys.path.append('..') ## line to add awpy repo to system PATH"
   ]
  },
  {
   "cell_type": "markdown",
   "id": "0f11ea1e",
   "metadata": {},
   "source": [
    "### What is a demofile?"
   ]
  },
  {
   "cell_type": "code",
   "execution_count": null,
   "id": "1400f854",
   "metadata": {},
   "outputs": [],
   "source": []
  },
  {
   "cell_type": "markdown",
   "id": "176c0571",
   "metadata": {},
   "source": [
    "### How do I get a demofile?"
   ]
  },
  {
   "cell_type": "markdown",
   "id": "a76ea425",
   "metadata": {},
   "source": [
    "Let's consider the demo from a match between Natus Vincere (NaVi) and Virtus Pro (VP), which we can download from [HLTV](https://www.hltv.org/matches/2369248/natus-vincere-vs-virtuspro-pgl-cs2-major-copenhagen-2024-europe-rmr-closed-qualifier-a). If we download the compressed demofile directory (a few hundred MB), there are two files (one demo file for each of the maps played during the match):\n",
    "\n",
    "* natus-vincere-vs-virtus-pro-m1-overpass.dem\n",
    "* natus-vincere-vs-virtus-pro-m2-anubis.dem"
   ]
  },
  {
   "cell_type": "code",
   "execution_count": null,
   "id": "f472481d",
   "metadata": {},
   "outputs": [],
   "source": []
  },
  {
   "cell_type": "markdown",
   "id": "dd9a7d14",
   "metadata": {},
   "source": [
    "## Using `demoparser.parse_demo()`"
   ]
  },
  {
   "cell_type": "markdown",
   "id": "3cf9f80c",
   "metadata": {},
   "source": [
    "In order to parse one of the demofiles, you have to use the `demoparser.parse_demo` method within the `awpy.parser` module and pass it the path to the demofile. There are additional arguments to `parse_demo` one can use as well; let's walk through the arguments to `parse_demo`:\n",
    "* file (str): the filepath for demofile to be parsed. This argument is the only mandatory argument for the function call\n",
    "* ticks (bool): Optional argument (default is `True`) on whether to parse tick-level data. If set as true, ticks attribute of returned demo object will contain a DataFrame with a row for each player during each tick. More detail on tick-level data can be found later in this notebook (**Ticks** subsection).\n",
    "* extended_ticks (bool): Optional argument (default is `False`) on whether to parse extra information for each tick. Examples of extra information include if a player is currently scoped in, if a player is currently walking, etc. More detail on extended tick-level data can be found later in this notebook (**Ticks** subsection).\n",
    "* extended_events (bool): Optional argument (default is `False`) on whether to parse extra events. Examples of extra events include if the bomb has been picked up, if the bomb has been dropped, etc. More detail on extended event-level data can be found later in this notebook (**Events** subsection).\n",
    "* keystrokes (bool): Optional argument (default is `False`) on whether to parse keystrokes in the tick-level data. More detail on keystrokes can be found later in this notebook (**Ticks** subsection)."
   ]
  },
  {
   "cell_type": "code",
   "execution_count": 2,
   "id": "1c720aba",
   "metadata": {},
   "outputs": [],
   "source": [
    "from awpy.parser import demoparser\n",
    "\n",
    "demo_filepath = '../../../../data/demos/' + 'natus-vincere-vs-virtus-pro-m1-overpass.dem'\n",
    "demo = demoparser.parse_demo(file=demo_filepath)"
   ]
  },
  {
   "cell_type": "markdown",
   "id": "61cb4ef4",
   "metadata": {},
   "source": [
    "## Accessing the parsed data"
   ]
  },
  {
   "cell_type": "markdown",
   "id": "20b994b8",
   "metadata": {},
   "source": [
    "The output of `parse_demo` is a `Demo` object (whose definition can be found in `awpy.parser.models.demo`). The demo object has the following attributes: header, events, ticks, and grenades. Let's talk about each of them individually:\n"
   ]
  },
  {
   "cell_type": "markdown",
   "id": "44784cf8",
   "metadata": {},
   "source": [
    "### Demo Header"
   ]
  },
  {
   "cell_type": "markdown",
   "id": "8019e163",
   "metadata": {},
   "source": [
    "The `header` attribute within a `Demo` object contains metadata pertaining to the parsed demofile. This metadata is organized in a Python dictionary, where the keys are strings and the values are strings as well. Metadata that can be found in the header includes map name, server information, etc. Below is a printed sample demo header for clarity:"
   ]
  },
  {
   "cell_type": "code",
   "execution_count": 3,
   "id": "1118b3f9",
   "metadata": {},
   "outputs": [
    {
     "name": "stdout",
     "output_type": "stream",
     "text": [
      "demo_version_guid: 8e9d71ab-04a1-4c01-bb61-acfede27c046\n",
      "network_protocol: 13985\n",
      "fullpackets_version: 2\n",
      "allow_clientside_particles: True\n",
      "addons: \n",
      "client_name: SourceTV Demo\n",
      "map_name: de_overpass\n",
      "server_name: challengermode.com - Register to join\n",
      "demo_version_name: valve_demo_2\n",
      "allow_clientside_entities: True\n",
      "demo_file_stamp: PBDEMS2\u0000\n",
      "game_directory: /home/dathost/cs2_linux/game/csgo\n"
     ]
    }
   ],
   "source": [
    "for k in demo.header:\n",
    "    print(k[0]+':', k[1])"
   ]
  },
  {
   "cell_type": "markdown",
   "id": "6831581b",
   "metadata": {},
   "source": [
    "### Events"
   ]
  },
  {
   "cell_type": "markdown",
   "id": "1dcbd984",
   "metadata": {},
   "source": [
    "Events are server-emitted objects(?) to ensure all player's gamestates are consistent. Instead of passing players' gamestates across the network to 'match them up'(?), events are instead used as 'gamestatedeltas'(?) to infer the new shared gamestate from the previous shared gamestate. For example, say the server is currently storing the latest shared gamestate. Now when the game wants to update its gamestate, it can receive these game/server events from each player instead of receiving the player's raw gamestate, which is much larger in size. These events will clearly outline how the previous shared gamestate has changed, allowing the server to update the shared gamestate in an efficient manner."
   ]
  },
  {
   "cell_type": "markdown",
   "id": "757a2e40",
   "metadata": {},
   "source": [
    "So one can imagine there are N event types, which are all being emitted by the server throughout the match. The events attribute of the demo object allows a user to access all occurrences of a particular event quickly. Specifically, the events attribute is a dictionary where the key is a string representing a partiuclar event type and the value is a `pandas.DataFrame` object containing information on each occurrence of the respective event in the demo. The DataFrame will have a row for each occurrence of the event and the columns provided will help give relevant data to each occurrence. Below is a breakdown of the different columns in each of the event DataFrames in the current parsed demo:"
   ]
  },
  {
   "cell_type": "code",
   "execution_count": 4,
   "id": "46584c89",
   "metadata": {
    "scrolled": true
   },
   "outputs": [
    {
     "name": "stdout",
     "output_type": "stream",
     "text": [
      "round_start\n",
      "Columns: fraglimit, objective, tick, timelimit \n",
      "\n",
      "inferno_expire\n",
      "Columns: entityid, tick, user_name, user_steamid, x, y, z \n",
      "\n",
      "player_hurt\n",
      "Columns: armor, attacker_name, attacker_steamid, dmg_armor, dmg_health, health, hitgroup, tick, user_name, user_steamid, weapon \n",
      "\n",
      "round_announce_match_start\n",
      "Columns: tick \n",
      "\n",
      "round_announce_last_round_half\n",
      "Columns: tick \n",
      "\n",
      "round_freeze_end\n",
      "Columns: tick \n",
      "\n",
      "begin_new_match\n",
      "Columns: tick \n",
      "\n",
      "bomb_planted\n",
      "Columns: site, tick, user_name, user_steamid \n",
      "\n",
      "inferno_startburn\n",
      "Columns: entityid, tick, user_name, user_steamid, x, y, z \n",
      "\n",
      "round_officially_ended\n",
      "Columns: tick \n",
      "\n",
      "player_death\n",
      "Columns: assistedflash, assister_name, assister_steamid, attacker_name, attacker_steamid, attackerblind, distance, dmg_armor, dmg_health, dominated, headshot, hitgroup, noreplay, noscope, penetrated, revenge, thrusmoke, tick, user_name, user_steamid, weapon, weapon_fauxitemid, weapon_itemid, weapon_originalowner_xuid, wipe \n",
      "\n",
      "smokegrenade_detonate\n",
      "Columns: entityid, tick, user_name, user_steamid, x, y, z \n",
      "\n",
      "round_end\n",
      "Columns: legacy, message, nomusic, player_count, reason, tick, winner \n",
      "\n",
      "bomb_exploded\n",
      "Columns: site, tick, user_name, user_steamid \n",
      "\n",
      "bomb_defused\n",
      "Columns: site, tick, user_name, user_steamid \n",
      "\n",
      "hegrenade_detonate\n",
      "Columns: entityid, tick, user_name, user_steamid, x, y, z \n",
      "\n",
      "smokegrenade_expired\n",
      "Columns: entityid, tick, user_name, user_steamid, x, y, z \n",
      "\n",
      "flashbang_detonate\n",
      "Columns: entityid, tick, user_name, user_steamid, x, y, z \n",
      "\n",
      "announce_phase_end\n",
      "Columns: tick \n",
      "\n"
     ]
    }
   ],
   "source": [
    "for event in demo.events:\n",
    "    print(event)\n",
    "    print(\"Columns:\", \", \".join(demo.events[event]), \"\\n\")\n"
   ]
  },
  {
   "cell_type": "markdown",
   "id": "9906b174",
   "metadata": {},
   "source": [
    "The above events are the default events parsed by `parse_demo`. If the optional argument `extended_events` is set as `True`, then additional events will be parsed. These extended events can be found within the method `build_event_list()` in `awpy.parser.demoparser`."
   ]
  },
  {
   "cell_type": "markdown",
   "id": "20dcd0d6",
   "metadata": {},
   "source": [
    "#### Round-related events"
   ]
  },
  {
   "cell_type": "markdown",
   "id": "afd547bb",
   "metadata": {},
   "source": [
    "There are a number of events outlined above but a certain subset we'd like to highlight are the round-relation events. In particular, the events below:"
   ]
  },
  {
   "cell_type": "markdown",
   "id": "5c0108cf",
   "metadata": {},
   "source": [
    "* `round_start` - Signals the start of a new round as the gameclock starts ticking down while players stay frozen\n",
    "* `round_freeze_end` - Signals the beginning of regulation time as the clock is set to 1:55 and players are unfrozen (the time before a round begins when player can access buy menu but their position is frozen)\n",
    "* `round_end` - Winner for the current round is deterined, the current score for the match is updated, and alive players have the ability to move for a few seconds\n",
    "* `round_officially_ended` - We move onto the next round and we should see a `round_start` event soon"
   ]
  },
  {
   "cell_type": "markdown",
   "id": "ef43fb58",
   "metadata": {},
   "source": [
    "### Ticks"
   ]
  },
  {
   "cell_type": "markdown",
   "id": "7a3e1ad4",
   "metadata": {},
   "source": [
    "The above-defined events are sent every 'tick' during a game. The tickrate, or how many ticks are sent by the server every second, is a way to measure how often the game updates(?). The tickrate can differ based on gamemode and server; matchmaking is used 64-tick while professional games are played on 128-tick servers.\n",
    "\n",
    "awpy provides parsed data organized by tick. If the `tick` argument is set to `True` in `parse_demo()` (which it is by default) then the ticks attribute of the returned demo object will be populated with a DataFrame. This DataFrame will have a row for each player for each tick in the demo. The columns of the DataFrame are mostly player-focused features(?). The columns of the ticks DataFrame and a quick preview of the DataFrame are shown below:"
   ]
  },
  {
   "cell_type": "code",
   "execution_count": 5,
   "id": "ea3d4778",
   "metadata": {},
   "outputs": [
    {
     "data": {
      "text/plain": [
       "Index(['game_phase', 'ping', 'armor', 'health', 'team_num', 'active_weapon',\n",
       "       'has_defuser', 'has_helmet', 'current_equip_value',\n",
       "       'round_start_equip_value', 'last_place_name', 'is_alive', 'pitch',\n",
       "       'yaw', 'X', 'Y', 'Z', 'tick', 'steamid', 'name'],\n",
       "      dtype='object')"
      ]
     },
     "execution_count": 5,
     "metadata": {},
     "output_type": "execute_result"
    }
   ],
   "source": [
    "demo.ticks.columns"
   ]
  },
  {
   "cell_type": "code",
   "execution_count": 33,
   "id": "0c405934",
   "metadata": {},
   "outputs": [
    {
     "data": {
      "text/html": [
       "<div>\n",
       "<style scoped>\n",
       "    .dataframe tbody tr th:only-of-type {\n",
       "        vertical-align: middle;\n",
       "    }\n",
       "\n",
       "    .dataframe tbody tr th {\n",
       "        vertical-align: top;\n",
       "    }\n",
       "\n",
       "    .dataframe thead th {\n",
       "        text-align: right;\n",
       "    }\n",
       "</style>\n",
       "<table border=\"1\" class=\"dataframe\">\n",
       "  <thead>\n",
       "    <tr style=\"text-align: right;\">\n",
       "      <th></th>\n",
       "      <th>game_phase</th>\n",
       "      <th>ping</th>\n",
       "      <th>armor</th>\n",
       "      <th>health</th>\n",
       "      <th>team_num</th>\n",
       "      <th>active_weapon</th>\n",
       "      <th>has_defuser</th>\n",
       "      <th>has_helmet</th>\n",
       "      <th>current_equip_value</th>\n",
       "      <th>round_start_equip_value</th>\n",
       "      <th>last_place_name</th>\n",
       "      <th>is_alive</th>\n",
       "      <th>pitch</th>\n",
       "      <th>yaw</th>\n",
       "      <th>X</th>\n",
       "      <th>Y</th>\n",
       "      <th>Z</th>\n",
       "      <th>tick</th>\n",
       "      <th>steamid</th>\n",
       "      <th>name</th>\n",
       "    </tr>\n",
       "  </thead>\n",
       "  <tbody>\n",
       "    <tr>\n",
       "      <th>0</th>\n",
       "      <td>1</td>\n",
       "      <td>0</td>\n",
       "      <td>0.0</td>\n",
       "      <td>100.0</td>\n",
       "      <td>0.0</td>\n",
       "      <td>16777215.0</td>\n",
       "      <td>False</td>\n",
       "      <td>False</td>\n",
       "      <td>0.0</td>\n",
       "      <td>0.0</td>\n",
       "      <td></td>\n",
       "      <td>False</td>\n",
       "      <td>0.0</td>\n",
       "      <td>0.0</td>\n",
       "      <td>0.0</td>\n",
       "      <td>0.0</td>\n",
       "      <td>0.0</td>\n",
       "      <td>8799</td>\n",
       "      <td>76561199063068840</td>\n",
       "      <td>w0nderful</td>\n",
       "    </tr>\n",
       "    <tr>\n",
       "      <th>1</th>\n",
       "      <td>1</td>\n",
       "      <td>0</td>\n",
       "      <td>0.0</td>\n",
       "      <td>100.0</td>\n",
       "      <td>0.0</td>\n",
       "      <td>16777215.0</td>\n",
       "      <td>False</td>\n",
       "      <td>False</td>\n",
       "      <td>0.0</td>\n",
       "      <td>0.0</td>\n",
       "      <td></td>\n",
       "      <td>False</td>\n",
       "      <td>0.0</td>\n",
       "      <td>0.0</td>\n",
       "      <td>0.0</td>\n",
       "      <td>0.0</td>\n",
       "      <td>0.0</td>\n",
       "      <td>8800</td>\n",
       "      <td>76561199063068840</td>\n",
       "      <td>w0nderful</td>\n",
       "    </tr>\n",
       "    <tr>\n",
       "      <th>2</th>\n",
       "      <td>1</td>\n",
       "      <td>0</td>\n",
       "      <td>0.0</td>\n",
       "      <td>100.0</td>\n",
       "      <td>0.0</td>\n",
       "      <td>16777215.0</td>\n",
       "      <td>False</td>\n",
       "      <td>False</td>\n",
       "      <td>0.0</td>\n",
       "      <td>0.0</td>\n",
       "      <td></td>\n",
       "      <td>False</td>\n",
       "      <td>0.0</td>\n",
       "      <td>0.0</td>\n",
       "      <td>0.0</td>\n",
       "      <td>0.0</td>\n",
       "      <td>0.0</td>\n",
       "      <td>8801</td>\n",
       "      <td>76561199063068840</td>\n",
       "      <td>w0nderful</td>\n",
       "    </tr>\n",
       "    <tr>\n",
       "      <th>3</th>\n",
       "      <td>1</td>\n",
       "      <td>0</td>\n",
       "      <td>0.0</td>\n",
       "      <td>100.0</td>\n",
       "      <td>0.0</td>\n",
       "      <td>16777215.0</td>\n",
       "      <td>False</td>\n",
       "      <td>False</td>\n",
       "      <td>0.0</td>\n",
       "      <td>0.0</td>\n",
       "      <td></td>\n",
       "      <td>False</td>\n",
       "      <td>0.0</td>\n",
       "      <td>0.0</td>\n",
       "      <td>0.0</td>\n",
       "      <td>0.0</td>\n",
       "      <td>0.0</td>\n",
       "      <td>8802</td>\n",
       "      <td>76561199063068840</td>\n",
       "      <td>w0nderful</td>\n",
       "    </tr>\n",
       "    <tr>\n",
       "      <th>4</th>\n",
       "      <td>1</td>\n",
       "      <td>0</td>\n",
       "      <td>0.0</td>\n",
       "      <td>100.0</td>\n",
       "      <td>0.0</td>\n",
       "      <td>16777215.0</td>\n",
       "      <td>False</td>\n",
       "      <td>False</td>\n",
       "      <td>0.0</td>\n",
       "      <td>0.0</td>\n",
       "      <td></td>\n",
       "      <td>False</td>\n",
       "      <td>0.0</td>\n",
       "      <td>0.0</td>\n",
       "      <td>0.0</td>\n",
       "      <td>0.0</td>\n",
       "      <td>0.0</td>\n",
       "      <td>8803</td>\n",
       "      <td>76561199063068840</td>\n",
       "      <td>w0nderful</td>\n",
       "    </tr>\n",
       "  </tbody>\n",
       "</table>\n",
       "</div>"
      ],
      "text/plain": [
       "   game_phase  ping  armor  health  team_num  active_weapon has_defuser  \\\n",
       "0           1     0    0.0   100.0       0.0     16777215.0       False   \n",
       "1           1     0    0.0   100.0       0.0     16777215.0       False   \n",
       "2           1     0    0.0   100.0       0.0     16777215.0       False   \n",
       "3           1     0    0.0   100.0       0.0     16777215.0       False   \n",
       "4           1     0    0.0   100.0       0.0     16777215.0       False   \n",
       "\n",
       "  has_helmet  current_equip_value  round_start_equip_value last_place_name  \\\n",
       "0      False                  0.0                      0.0                   \n",
       "1      False                  0.0                      0.0                   \n",
       "2      False                  0.0                      0.0                   \n",
       "3      False                  0.0                      0.0                   \n",
       "4      False                  0.0                      0.0                   \n",
       "\n",
       "   is_alive  pitch  yaw    X    Y    Z  tick            steamid       name  \n",
       "0     False    0.0  0.0  0.0  0.0  0.0  8799  76561199063068840  w0nderful  \n",
       "1     False    0.0  0.0  0.0  0.0  0.0  8800  76561199063068840  w0nderful  \n",
       "2     False    0.0  0.0  0.0  0.0  0.0  8801  76561199063068840  w0nderful  \n",
       "3     False    0.0  0.0  0.0  0.0  0.0  8802  76561199063068840  w0nderful  \n",
       "4     False    0.0  0.0  0.0  0.0  0.0  8803  76561199063068840  w0nderful  "
      ]
     },
     "execution_count": 33,
     "metadata": {},
     "output_type": "execute_result"
    }
   ],
   "source": [
    "demo.ticks.head(5)"
   ]
  },
  {
   "cell_type": "markdown",
   "id": "9808a962",
   "metadata": {},
   "source": [
    "If the argument `extended_ticks` for `parse_demo` is set as `True` (`False` by default), then additional information will be logged in the tick-level data. `extended_ticks` will create a larger set of columns in the ticks DataFrame. A few of the added columns are if the player is currently scoped, if the player is currently walking, etc. If you are interested in seeing the entire `extended_ticks` list, take a look at `build_tick_properties` in `demoparser.py`."
   ]
  },
  {
   "cell_type": "markdown",
   "id": "0d963713",
   "metadata": {},
   "source": [
    "If the argument `keystrokes` for `parse_demo` is set as `True` (`False` by default), then additional information will be logged in the tick-level data. `keystrokes` allows one to see which buttons each player was clicking during each tick by adding certain buttons as columns to the ticks DataFrame. The tracked buttons are as follows: forward, backward, left, right, right click, reload, walk, zoom, scoreboard. Refer to `build_tick_properties` if you have any additional questions."
   ]
  },
  {
   "cell_type": "markdown",
   "id": "9d0b12dd",
   "metadata": {},
   "source": [
    "### Grenades"
   ]
  },
  {
   "cell_type": "markdown",
   "id": "022f70eb",
   "metadata": {},
   "source": [
    "All instances of grenades (smoke, flasbang, molotov, and he_grenade) are also organized in a DataFrame, which stored in the `grenades` attribute of the demo object. There is a row for each tick a thrown grenade is active (smoke is bloomed, molotov is currently burning, etc. So it is expected there are multiple rows representing the same grenade thrown as grenades can be active over a certain timeframe, causing them to be active over multiple ticks. Below are the columns of the grenades DF and a quick preview as well:"
   ]
  },
  {
   "cell_type": "code",
   "execution_count": 31,
   "id": "7ab0b8f2",
   "metadata": {},
   "outputs": [
    {
     "data": {
      "text/plain": [
       "Index(['X', 'Y', 'Z', 'tick', 'thrower_steamid', 'name', 'grenade_type',\n",
       "       'entity_id'],\n",
       "      dtype='object')"
      ]
     },
     "execution_count": 31,
     "metadata": {},
     "output_type": "execute_result"
    }
   ],
   "source": [
    "demo.grenades.columns"
   ]
  },
  {
   "cell_type": "code",
   "execution_count": 32,
   "id": "31287adc",
   "metadata": {},
   "outputs": [
    {
     "data": {
      "text/html": [
       "<div>\n",
       "<style scoped>\n",
       "    .dataframe tbody tr th:only-of-type {\n",
       "        vertical-align: middle;\n",
       "    }\n",
       "\n",
       "    .dataframe tbody tr th {\n",
       "        vertical-align: top;\n",
       "    }\n",
       "\n",
       "    .dataframe thead th {\n",
       "        text-align: right;\n",
       "    }\n",
       "</style>\n",
       "<table border=\"1\" class=\"dataframe\">\n",
       "  <thead>\n",
       "    <tr style=\"text-align: right;\">\n",
       "      <th></th>\n",
       "      <th>X</th>\n",
       "      <th>Y</th>\n",
       "      <th>Z</th>\n",
       "      <th>tick</th>\n",
       "      <th>thrower_steamid</th>\n",
       "      <th>name</th>\n",
       "      <th>grenade_type</th>\n",
       "      <th>entity_id</th>\n",
       "    </tr>\n",
       "  </thead>\n",
       "  <tbody>\n",
       "    <tr>\n",
       "      <th>0</th>\n",
       "      <td>-2107.03125</td>\n",
       "      <td>982.09375</td>\n",
       "      <td>580.3125</td>\n",
       "      <td>81478</td>\n",
       "      <td>76561198013243326</td>\n",
       "      <td>AleksibOb</td>\n",
       "      <td>smoke</td>\n",
       "      <td>635</td>\n",
       "    </tr>\n",
       "    <tr>\n",
       "      <th>1</th>\n",
       "      <td>-2100.8125</td>\n",
       "      <td>974.8125</td>\n",
       "      <td>588.90625</td>\n",
       "      <td>81479</td>\n",
       "      <td>76561198013243326</td>\n",
       "      <td>AleksibOb</td>\n",
       "      <td>smoke</td>\n",
       "      <td>635</td>\n",
       "    </tr>\n",
       "    <tr>\n",
       "      <th>2</th>\n",
       "      <td>-2094.59375</td>\n",
       "      <td>967.5625</td>\n",
       "      <td>597.4375</td>\n",
       "      <td>81480</td>\n",
       "      <td>76561198013243326</td>\n",
       "      <td>AleksibOb</td>\n",
       "      <td>smoke</td>\n",
       "      <td>635</td>\n",
       "    </tr>\n",
       "    <tr>\n",
       "      <th>3</th>\n",
       "      <td>-2088.375</td>\n",
       "      <td>960.28125</td>\n",
       "      <td>605.90625</td>\n",
       "      <td>81481</td>\n",
       "      <td>76561198013243326</td>\n",
       "      <td>AleksibOb</td>\n",
       "      <td>smoke</td>\n",
       "      <td>635</td>\n",
       "    </tr>\n",
       "    <tr>\n",
       "      <th>4</th>\n",
       "      <td>-2082.15625</td>\n",
       "      <td>953.0</td>\n",
       "      <td>614.28125</td>\n",
       "      <td>81482</td>\n",
       "      <td>76561198013243326</td>\n",
       "      <td>AleksibOb</td>\n",
       "      <td>smoke</td>\n",
       "      <td>635</td>\n",
       "    </tr>\n",
       "    <tr>\n",
       "      <th>5</th>\n",
       "      <td>-2075.9375</td>\n",
       "      <td>945.75</td>\n",
       "      <td>622.5625</td>\n",
       "      <td>81483</td>\n",
       "      <td>76561198013243326</td>\n",
       "      <td>AleksibOb</td>\n",
       "      <td>smoke</td>\n",
       "      <td>635</td>\n",
       "    </tr>\n",
       "    <tr>\n",
       "      <th>6</th>\n",
       "      <td>-2069.71875</td>\n",
       "      <td>938.46875</td>\n",
       "      <td>630.78125</td>\n",
       "      <td>81484</td>\n",
       "      <td>76561198013243326</td>\n",
       "      <td>AleksibOb</td>\n",
       "      <td>smoke</td>\n",
       "      <td>635</td>\n",
       "    </tr>\n",
       "    <tr>\n",
       "      <th>7</th>\n",
       "      <td>-2063.5</td>\n",
       "      <td>931.1875</td>\n",
       "      <td>638.90625</td>\n",
       "      <td>81485</td>\n",
       "      <td>76561198013243326</td>\n",
       "      <td>AleksibOb</td>\n",
       "      <td>smoke</td>\n",
       "      <td>635</td>\n",
       "    </tr>\n",
       "    <tr>\n",
       "      <th>8</th>\n",
       "      <td>-2057.28125</td>\n",
       "      <td>923.9375</td>\n",
       "      <td>646.96875</td>\n",
       "      <td>81486</td>\n",
       "      <td>76561198013243326</td>\n",
       "      <td>AleksibOb</td>\n",
       "      <td>smoke</td>\n",
       "      <td>635</td>\n",
       "    </tr>\n",
       "    <tr>\n",
       "      <th>9</th>\n",
       "      <td>-2051.0625</td>\n",
       "      <td>916.65625</td>\n",
       "      <td>654.96875</td>\n",
       "      <td>81487</td>\n",
       "      <td>76561198013243326</td>\n",
       "      <td>AleksibOb</td>\n",
       "      <td>smoke</td>\n",
       "      <td>635</td>\n",
       "    </tr>\n",
       "  </tbody>\n",
       "</table>\n",
       "</div>"
      ],
      "text/plain": [
       "            X          Y          Z   tick    thrower_steamid       name  \\\n",
       "0 -2107.03125  982.09375   580.3125  81478  76561198013243326  AleksibOb   \n",
       "1  -2100.8125   974.8125  588.90625  81479  76561198013243326  AleksibOb   \n",
       "2 -2094.59375   967.5625   597.4375  81480  76561198013243326  AleksibOb   \n",
       "3   -2088.375  960.28125  605.90625  81481  76561198013243326  AleksibOb   \n",
       "4 -2082.15625      953.0  614.28125  81482  76561198013243326  AleksibOb   \n",
       "5  -2075.9375     945.75   622.5625  81483  76561198013243326  AleksibOb   \n",
       "6 -2069.71875  938.46875  630.78125  81484  76561198013243326  AleksibOb   \n",
       "7     -2063.5   931.1875  638.90625  81485  76561198013243326  AleksibOb   \n",
       "8 -2057.28125   923.9375  646.96875  81486  76561198013243326  AleksibOb   \n",
       "9  -2051.0625  916.65625  654.96875  81487  76561198013243326  AleksibOb   \n",
       "\n",
       "  grenade_type  entity_id  \n",
       "0        smoke        635  \n",
       "1        smoke        635  \n",
       "2        smoke        635  \n",
       "3        smoke        635  \n",
       "4        smoke        635  \n",
       "5        smoke        635  \n",
       "6        smoke        635  \n",
       "7        smoke        635  \n",
       "8        smoke        635  \n",
       "9        smoke        635  "
      ]
     },
     "execution_count": 32,
     "metadata": {},
     "output_type": "execute_result"
    }
   ],
   "source": [
    "demo.grenades.head(10)"
   ]
  },
  {
   "cell_type": "code",
   "execution_count": null,
   "id": "35a98884",
   "metadata": {},
   "outputs": [],
   "source": []
  }
 ],
 "metadata": {
  "kernelspec": {
   "display_name": "Python [conda env:awpy2Test]",
   "language": "python",
   "name": "conda-env-awpy2Test-py"
  },
  "language_info": {
   "codemirror_mode": {
    "name": "ipython",
    "version": 3
   },
   "file_extension": ".py",
   "mimetype": "text/x-python",
   "name": "python",
   "nbconvert_exporter": "python",
   "pygments_lexer": "ipython3",
   "version": "3.12.1"
  }
 },
 "nbformat": 4,
 "nbformat_minor": 5
}
