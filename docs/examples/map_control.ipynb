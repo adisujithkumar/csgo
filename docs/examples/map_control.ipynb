{
 "cells": [
  {
   "cell_type": "markdown",
   "id": "8c132f25-0033-4174-aef7-bc90959e3564",
   "metadata": {},
   "source": [
    "# Calculating and Visualizing Map Control"
   ]
  },
  {
   "cell_type": "code",
   "execution_count": 1,
   "id": "271a0708-7b23-4055-b030-7e6a89ac9e3b",
   "metadata": {},
   "outputs": [],
   "source": [
    "import sys\n",
    "import os\n",
    "\n",
    "# Get the absolute path to the 'awpy' folder\n",
    "awpy_path = os.path.abspath(os.path.join(os.getcwd(), '..', '..', 'awpy'))\n",
    "\n",
    "# Add it to sys.path\n",
    "if awpy_path not in sys.path:\n",
    "    sys.path.insert(0, awpy_path)\n",
    "\n",
    "# Confirm it's in the path\n",
    "#print(sys.path)"
   ]
  },
  {
   "cell_type": "code",
   "execution_count": 2,
   "id": "80995c2a-ee6c-4f7d-b112-3e1094002829",
   "metadata": {},
   "outputs": [],
   "source": [
    "path_demo = \"../../../../../data/cs2_demos/blast-premier-spring-final-2024-spirit-vs-natus-vincere-bo5-gH3-PNkvLAQfRzQ4vYfvHF/spirit-vs-natus-vincere-m2-dust2.dem\""
   ]
  },
  {
   "cell_type": "code",
   "execution_count": 3,
   "id": "50ec07d1-bb20-4400-a4f4-94146566ef33",
   "metadata": {},
   "outputs": [],
   "source": [
    "from awpy import Demo\n",
    "\n",
    "# Demo: https://www.hltv.org/matches/2372746/spirit-vs-natus-vincere-blast-premier-spring-final-2024 (de_dust2, Map 2)\n",
    "dem = Demo(path_demo, verbose=False)\n",
    "dem.parse(player_props=[\"health\", \"armor_value\", \"pitch\", \"yaw\"])"
   ]
  },
  {
   "cell_type": "markdown",
   "id": "f012c208-2672-4fff-99ee-af13325eb959",
   "metadata": {},
   "source": [
    "#### Calculate and Visualize Frame Map Control Values"
   ]
  },
  {
   "cell_type": "code",
   "execution_count": 7,
   "id": "76fe1084-86c0-4487-8fd0-2b1dc75a9d02",
   "metadata": {},
   "outputs": [],
   "source": [
    "from awpy.stats.map_control import extract_teams_metadata"
   ]
  },
  {
   "cell_type": "code",
   "execution_count": 13,
   "id": "2ba2d5dc-7903-4697-bae9-018805f72895",
   "metadata": {},
   "outputs": [],
   "source": [
    "import polars as pl\n",
    "\n",
    "filter_tick = 19275\n",
    "filtered_df = dem.ticks.filter(pl.col(\"tick\") == filter_tick)\n",
    "extract_teams_metadata(filtered_df)"
   ]
  },
  {
   "cell_type": "code",
   "execution_count": null,
   "id": "dad3d241-0426-404b-89ae-ef81a1343829",
   "metadata": {},
   "outputs": [],
   "source": []
  }
 ],
 "metadata": {
  "kernelspec": {
   "display_name": "Python 3 (ipykernel)",
   "language": "python",
   "name": "python3"
  },
  "language_info": {
   "codemirror_mode": {
    "name": "ipython",
    "version": 3
   },
   "file_extension": ".py",
   "mimetype": "text/x-python",
   "name": "python",
   "nbconvert_exporter": "python",
   "pygments_lexer": "ipython3",
   "version": "3.11.11"
  }
 },
 "nbformat": 4,
 "nbformat_minor": 5
}
